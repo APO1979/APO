{
 "cells": [
  {
   "cell_type": "markdown",
   "metadata": {
    "slideshow": {
     "slide_type": "slide"
    }
   },
   "source": [
    "# Introdução a Linguagem de Programação Python\n",
    "."
   ]
  },
  {
   "cell_type": "markdown",
   "metadata": {
    "slideshow": {
     "slide_type": "skip"
    }
   },
   "source": [
    "Slide Exibição"
   ]
  },
  {
   "cell_type": "markdown",
   "metadata": {
    "slideshow": {
     "slide_type": "slide"
    }
   },
   "source": [
    "# O que é Python?\n",
    "- Linguagem de programação interpretada\n",
    "- Multiparadigma\n",
    "- Foco na legibilidade e (re)usabilidade\n",
    "    - Excelente para prototipagem\n",
    "- Possui diversas bibliotecas prontas para as mais diversas tarefas"
   ]
  },
  {
   "cell_type": "markdown",
   "metadata": {
    "slideshow": {
     "slide_type": "slide"
    }
   },
   "source": [
    "# Python: popularidade\n",
    "\n",
    "Como linguagem de ensino, Python é a linguagem mais utilizada atualmente.\n",
    "![Python](http://cacm.acm.org/system/assets/0001/6470/Top39-700.3.png)"
   ]
  },
  {
   "cell_type": "markdown",
   "metadata": {
    "slideshow": {
     "slide_type": "slide"
    }
   },
   "source": [
    "# Comparação\n",
    "\n",
    "Em termos de expressividade $\\Uparrow$\n",
    "\n",
    "- Python\n",
    "- Java\n",
    "- C\n",
    "\n",
    "Em termos de velocidade $\\Downarrow$\n",
    "\n",
    "Por que?\n",
    "- Linguagem interpretada com alocação dinâmica de espaço\n",
    "- Sem tipos primitivos $\\Rightarrow$ todas as variáveis são objetos \n",
    "- Todas as operações com overhead de verificações de tipos"
   ]
  },
  {
   "cell_type": "markdown",
   "metadata": {
    "slideshow": {
     "slide_type": "subslide"
    }
   },
   "source": [
    "# Comparação\n",
    "\n",
    "|  C    | Python |\n",
    "|:-----:|:------:|\n",
    "| ```int a = 1;``` | ```a = 1```|\n",
    "| ```int b = 2;``` | ```b = 2```|\n",
    "| ```int c = a + b;``` | ```c = a + b```|"
   ]
  },
  {
   "cell_type": "markdown",
   "metadata": {
    "slideshow": {
     "slide_type": "subslide"
    }
   },
   "source": [
    "# [Comparação][1]\n",
    "\n",
    "## C (4 instruções)\n",
    "1. Assign ```<int>``` 1 to a\n",
    "2. Assign ```<int>``` 2 to b\n",
    "3. call ```binary_add<int, int>(a, b)```\n",
    "4. Assign the result to c\n",
    "\n",
    "https://jakevdp.github.io/blog/2014/05/09/why-python-is-slow/\n",
    "\n",
    "[1]: https://jakevdp.github.io/blog/2014/05/09/why-python-is-slow/\n"
   ]
  },
  {
   "cell_type": "markdown",
   "metadata": {
    "slideshow": {
     "slide_type": "subslide"
    }
   },
   "source": [
    "# [Comparação][1]\n",
    "\n",
    "## Python (12 instruções)\n",
    "\n",
    "1. Assign 1 to a\n",
    "    1. Set ```a->PyObject_Head->typecode``` to ```integer```\n",
    "    2. Set ```a->val = 1```\n",
    "2. Assign 2 to b\n",
    "    1. Set ```b->PyObject_HEAD->typecode``` to ```integer```\n",
    "    2. Set ```b->val = 2```\n",
    "3. ```call binary_add(a, b)```\n",
    "    1. find ```typecode``` in ```a->PyObject_HEAD```\n",
    "    2. ```a``` is an ```integer```; ```value``` is ```a->val```\n",
    "    3. find ```typecode``` in ```b->PyObject_HEAD```\n",
    "    4. ```b``` is an ```integer```; ```value is b->val```\n",
    "    5. call ```binary_add<int, int>(a->val, b->val)```\n",
    "    6. result of this is ```result```, and is an integer.\n",
    "4. Create a Python object c\n",
    "    1. set ```c->PyObject_HEAD->typecode``` to ```integer```\n",
    "    2. set ```c->val``` to ```result```\n",
    "\n",
    "https://jakevdp.github.io/blog/2014/05/09/why-python-is-slow/\n",
    "\n",
    "[1]: https://jakevdp.github.io/blog/2014/05/09/why-python-is-slow/\n"
   ]
  },
  {
   "cell_type": "markdown",
   "metadata": {
    "slideshow": {
     "slide_type": "slide"
    }
   },
   "source": [
    "# Como mitigar ineficiência do Python?\n",
    "\n",
    "Programando partes críticas da aplicação em C \n",
    "\n",
    "- O nome “completo” da distribuição Python mais popular é CPython\n",
    "    - Outras distribuições:  https://www.python.org/download/alternatives/ \n",
    "- Isso porque é possível implementar bibliotecas inteiras em C e chamar funções a partir de uma interface Python\n"
   ]
  },
  {
   "cell_type": "markdown",
   "metadata": {
    "slideshow": {
     "slide_type": "slide"
    }
   },
   "source": [
    "# Programando em C\n",
    "\n",
    "## Código em Python\n",
    "```python\n",
    "def predict(self, data, dt, inner=False):\n",
    "        tree = dt.tree.node\n",
    "        shape = data.shape\n",
    "        data = data.values.ravel().tolist()\n",
    " \n",
    "        preds = make_predictions(\n",
    "            shape,\n",
    "            data,\n",
    "            tree,\n",
    "            range(shape[0]),  \n",
    "            self.dataset_info.attribute_index\n",
    "        )\n",
    "        return preds\n",
    "```\n",
    "\n"
   ]
  },
  {
   "cell_type": "markdown",
   "metadata": {
    "slideshow": {
     "slide_type": "subslide"
    }
   },
   "source": [
    "# Programando em C\n",
    "\n",
    "## Amarração em C\n",
    "\n",
    "```C\n",
    "static PyObject* make_predictions(PyObject *self, PyObject *args) {\n",
    "    int n_objects, n_attributes;\n",
    "    PyObject *predictions, *tree, *dataset, *attribute_index, *shape;\n",
    " \n",
    "    if (!PyArg_ParseTuple(\n",
    "            args, \"O!O!O!O!O!\",\n",
    "            &PyTuple_Type, &shape,\n",
    "            &PyList_Type, &dataset,\n",
    "            &PyDict_Type, &tree,\n",
    "            &PyList_Type, &predictions,\n",
    "            &PyDict_Type, &attribute_index)) {\n",
    "        return NULL;\n",
    "    }\n",
    " \n",
    "    n_objects = (int)PyInt_AsLong(PyTuple_GetItem(shape, 0));\n",
    "    n_attributes = (int)PyInt_AsLong(PyTuple_GetItem(shape, 1));\n",
    " \n",
    "    predict_dataset(n_objects, n_attributes, &dataset[0], tree, &predictions[0], attribute_index);\n",
    " \n",
    "    return Py_BuildValue(\"O\", predictions);\n",
    "}\n",
    "```"
   ]
  },
  {
   "cell_type": "markdown",
   "metadata": {
    "slideshow": {
     "slide_type": "slide"
    }
   },
   "source": [
    "![Comparison](images/comparison-python-c.png)"
   ]
  },
  {
   "cell_type": "markdown",
   "metadata": {
    "slideshow": {
     "slide_type": "slide"
    }
   },
   "source": [
    "# Frameworks de Aprendizado de Máquina\n",
    "![Periodic Table](images/periodic-table.png)"
   ]
  },
  {
   "cell_type": "markdown",
   "metadata": {
    "slideshow": {
     "slide_type": "slide"
    }
   },
   "source": [
    "# Configuração do Ambiente"
   ]
  },
  {
   "cell_type": "markdown",
   "metadata": {
    "slideshow": {
     "slide_type": "slide"
    }
   },
   "source": [
    "# Passo 1: interpretador\n",
    "\n",
    "1. Baixe a distribuição Anaconda do Python 3.X: https://www.anaconda.com/download \n",
    "2. Instale na sua máquina: https://docs.anaconda.com/anaconda/install/ \n",
    "3. Teste a instalação:\n",
    "```bash\n",
    "python --version\n",
    "```\n",
    "Deve resultar em uma string do tipo:\n",
    "```\n",
    "Python 2.7.15 :: Anaconda custom (64-bit)\n",
    "```\n",
    "Para habilitar o comando CONDA \n",
    "https://conda.io/docs/user-guide/getting-started.html\n",
    "```\n",
    "4. Atualize sua distribuição periodicamente:\n",
    "```bash\n",
    "Update anaconda using the following command:\n",
    " conda update -n base conda && conda update --all && conda clean --all\n",
    "```\n",
    "**Importante:** Nunca use ```sudo``` nos comandos do Anaconda para manter as instalações estanques. Uma vez usado ```sudo```, você sempre dependerá dele."
   ]
  },
  {
   "cell_type": "markdown",
   "metadata": {
    "slideshow": {
     "slide_type": "slide"
    }
   },
   "source": [
    "# Passo 2: ambientes virtuais\n",
    "\n",
    "- O Anaconda permite criar interpretadores virtuais para encapsular ambientes de trabalho\n",
    "- Para ver a descrição do comando ```conda create```:\n",
    "\n",
    "```bash   \n",
    "$conda create -h\n",
    "usage: conda create [-h] [-y] [--dry-run] [-f] [--file FILE] [--no-deps]\n",
    "                    [--only-deps] [-m] [-C] [--use-local] [--offline]\n",
    "                    [--no-pin] [-c CHANNEL] [--override-channels]\n",
    "                    [-n ENVIRONMENT | -p PATH] [-q] [--copy] [-k]\n",
    "                    [--update-dependencies] [--no-update-dependencies]\n",
    "                    [--channel-priority] [--no-channel-priority] [--clobber]\n",
    "                    [--show-channel-urls] [--no-show-channel-urls]\n",
    "                    [--download-only] [--json] [--debug] [--verbose]\n",
    "                    [--clone ENV] [--no-default-packages]\n",
    "                    [package_spec [package_spec ...]]\n",
    "\n",
    "Create a new conda environment from a list of specified packages. To use the created environment, use 'source activate envname' look in that directory first.  This command requires either the -n NAME or -p PREFIX option.\n",
    "\n",
    "```"
   ]
  },
  {
   "cell_type": "markdown",
   "metadata": {
    "slideshow": {
     "slide_type": "subslide"
    }
   },
   "source": [
    "# Passo 2: ambientes virtuais\n",
    "\n",
    "Para criar um ambiente:\n",
    "\n",
    "```bash\n",
    "$ conda create --name py3 python=3.5\n",
    "Solving environment: done\n",
    "\n",
    "## Package Plan ##\n",
    "\n",
    "  environment location: /Users/meneguzzi/anaconda/envs/py3\n",
    "\n",
    "  added / updated specs:\n",
    "    - python=3.5\n",
    "\n",
    "\n",
    "The following packages will be downloaded:\n",
    "\n",
    "    package                    |            build\n",
    "    ---------------------------|-----------------\n",
    "    certifi-2018.4.16          |           py35_0         142 KB\n",
    "    python-3.5.5               |       h0a44026_3        14.9 MB\n",
    "    wheel-0.31.1               |           py35_0          62 KB\n",
    "    setuptools-39.2.0          |           py35_0         565 KB\n",
    "    pip-10.0.1                 |           py35_0         1.8 MB\n",
    "    ------------------------------------------------------------\n",
    "                                           Total:        17.4 MB\n",
    "\n",
    "The following NEW packages will be INSTALLED:\n",
    "\n",
    "    ca-certificates: 2018.03.07-0\n",
    "    certifi:         2018.4.16-py35_0\n",
    "    libcxx:          4.0.1-h579ed51_0\n",
    "    libcxxabi:       4.0.1-hebd6815_0\n",
    "    libedit:         3.1.20170329-hb402a30_2\n",
    "    libffi:          3.2.1-h475c297_4\n",
    "    ncurses:         6.1-h0a44026_0\n",
    "    openssl:         1.0.2o-h26aff7b_0\n",
    "    pip:             10.0.1-py35_0\n",
    "    python:          3.5.5-h0a44026_3\n",
    "    readline:        7.0-hc1231fa_4\n",
    "    setuptools:      39.2.0-py35_0\n",
    "    sqlite:          3.23.1-hf1716c9_0\n",
    "    tk:              8.6.7-h35a86e2_3\n",
    "    wheel:           0.31.1-py35_0\n",
    "    xz:              5.2.4-h1de35cc_4\n",
    "    zlib:            1.2.11-hf3cbc9b_2\n",
    "\n",
    "Proceed ([y]/n)?\n",
    "```\n",
    "\n",
    "O ambiente resultante se chamará ```py3``` que utiliza python 3.5"
   ]
  },
  {
   "cell_type": "markdown",
   "metadata": {
    "slideshow": {
     "slide_type": "subslide"
    }
   },
   "source": [
    "# Passo 2: ambientes virtuais\n",
    "Para utilizar o ambiente:\n",
    "\n",
    "```\n",
    "Set anaconda to use a specific python version:\n",
    " source activate py3\n",
    "to go back to Python 2.7 (default)\n",
    " source deactivate\n",
    "```\n",
    "\n",
    "E o prompt resultante terá o nome do ambiente o identificando\n",
    "\n",
    "```\n",
    "(py36) Retina-MBP:python_basico meneguzzi$\n",
    "```"
   ]
  },
  {
   "cell_type": "markdown",
   "metadata": {
    "slideshow": {
     "slide_type": "subslide"
    }
   },
   "source": [
    "# Passo 2: ambientes virtuais\n",
    "\n",
    "Para remover um ambiente virtual:\n",
    "\n",
    "```bash\n",
    "$ conda env remove --name py36\n",
    "\n",
    "Remove all packages in environment /Users/meneguzzi/anaconda/envs/py36:\n",
    "\n",
    "\n",
    "## Package Plan ##\n",
    "\n",
    "  environment location: /Users/meneguzzi/anaconda/envs/py36\n",
    "\n",
    "\n",
    "The following packages will be REMOVED:\n",
    "\n",
    "    appnope:            0.1.0-py36hf537a9a_0\n",
    "    backcall:           0.1.0-py36_0\n",
    "    bleach:             2.1.3-py36_0\n",
    "    ca-certificates:    2018.03.07-0\n",
    "    certifi:            2018.4.16-py36_0\n",
    "    cycler:             0.10.0-py36hfc81398_0\n",
    "    dbus:               1.13.2-h760590f_1\n",
    "    decorator:          4.3.0-py36_0\n",
    "    entrypoints:        0.2.3-py36hd81d71f_2\n",
    "    expat:              2.2.5-hb8e80ba_0\n",
    "    freetype:           2.5.5-2\n",
    "    gettext:            0.19.8.1-h15daf44_3\n",
    "    glib:               2.56.1-h35bc53a_0\n",
    "    graphviz:           2.38.0-4\n",
    "    h5py:               2.8.0-py36ha8ecd60_0\n",
    "    hdf5:               1.10.2-hfa1e0ec_1\n",
    "    html5lib:           1.0.1-py36h2f9c1c0_0\n",
    "```"
   ]
  },
  {
   "cell_type": "markdown",
   "metadata": {
    "slideshow": {
     "slide_type": "slide"
    }
   },
   "source": [
    "# Passo 3: gerenciando pacotes\n",
    "\n",
    "Para verificar os pacotes instalados no ambiente virtual use:\n",
    "\n",
    "```conda list``` ou ```pip list```\n",
    "\n",
    "```bash\n",
    "$ conda list\n",
    "# packages in environment at /Users/meneguzzi/anaconda/envs/py36:\n",
    "#\n",
    "# Name                    Version                   Build  Channel\n",
    "appnope                   0.1.0            py36hf537a9a_0\n",
    "backcall                  0.1.0                    py36_0\n",
    "bleach                    2.1.3                    py36_0\n",
    "ca-certificates           2018.03.07                    0\n",
    "certifi                   2018.4.16                py36_0\n",
    "cycler                    0.10.0           py36hfc81398_0\n",
    "dbus                      1.13.2               h760590f_1\n",
    "decorator                 4.3.0                    py36_0\n",
    "entrypoints               0.2.3            py36hd81d71f_2\n",
    "expat                     2.2.5                hb8e80ba_0\n",
    "freetype                  2.5.5                         2\n",
    "gettext                   0.19.8.1             h15daf44_3\n",
    "glib                      2.56.1               h35bc53a_0\n",
    "graphviz                  2.38.0                        4\n",
    "h5py                      2.8.0            py36ha8ecd60_0\n",
    "hdf5                      1.10.2               hfa1e0ec_1\n",
    "html5lib                  1.0.1            py36h2f9c1c0_0\n",
    "icu                       58.2                 h4b95b61_1\n",
    "```"
   ]
  },
  {
   "cell_type": "markdown",
   "metadata": {
    "slideshow": {
     "slide_type": "subslide"
    }
   },
   "source": [
    "# Passo 3: gerenciando pacotes\n",
    "\n",
    "Para instalar pacotes:\n",
    "\n",
    "```conda install <pacote>```\n",
    "\n",
    "```bash\n",
    "```\n",
    "\n",
    "**Sempre use o conda ao invés do pip para instalação e desinstalação**"
   ]
  },
  {
   "cell_type": "markdown",
   "metadata": {
    "slideshow": {
     "slide_type": "subslide"
    }
   },
   "source": [
    "# Passo 3: gerenciando pacotes\n",
    "\n",
    "Para remover pacotes:\n",
    "\n",
    "```conda uninstall <pacote>```\n",
    "\n",
    "```bash\n",
    "```\n",
    "\n",
    "**Sempre use o conda ao invés do pip para instalação e desinstalação**"
   ]
  },
  {
   "cell_type": "markdown",
   "metadata": {
    "slideshow": {
     "slide_type": "slide"
    }
   },
   "source": [
    "# Passo 4: utilizando notebooks\n",
    "\n",
    "- Uma forma interativa de aprender a programar em Python é utilizando o recurso de Jupyter notebooks\n",
    "- Encapsulam o trabalho em arquivos, sendo estes arquivos separados em boxes com código-fonte e texto em Markdown\n"
   ]
  },
  {
   "cell_type": "markdown",
   "metadata": {
    "slideshow": {
     "slide_type": "subslide"
    }
   },
   "source": [
    "# Passo 4: utilizando notebooks\n",
    "\n",
    "Iniciando o servidor jupyter localmente:\n",
    "- Entre no ambiente virtual que você criou anteriormente (```source activate py3```)\n",
    "- Instale o pacote jupyter:\n",
    "```conda install jupyter``` (últimas versões do conda já o possuem pré-instalado)\n",
    "- Digite o comando ```jupyter notebook```\n",
    "- Crie um novo notebook  (ou abra um notebook existente)\n"
   ]
  },
  {
   "cell_type": "markdown",
   "metadata": {
    "slideshow": {
     "slide_type": "subslide"
    }
   },
   "source": [
    "# Passo 4: utilizando notebooks\n",
    "\n",
    "```bash\n",
    "$ jupyter notebook\n",
    "[I 16:29:12.488 NotebookApp] Serving notebooks from local directory: /Users/meneguzzi/Documents/pucrs/courses/2018-1/extension/python101\n",
    "[I 16:29:12.488 NotebookApp] 0 active kernels\n",
    "[I 16:29:12.488 NotebookApp] The Jupyter Notebook is running at:\n",
    "[I 16:29:12.488 NotebookApp] http://localhost:8888/?token=1409da988aa14b9336b373b35d167dda20bca7efc2c23585\n",
    "[I 16:29:12.488 NotebookApp] Use Control-C to stop this server and shut down all kernels (twice to skip confirmation).\n",
    "[C 16:29:12.489 NotebookApp]\n",
    "\n",
    "    Copy/paste this URL into your browser when you connect for the first time,\n",
    "    to login with a token:\n",
    "        http://localhost:8888/?token=1409da988aa14b9336b373b35d167dda20bca7efc2c23585&token=1409da988aa14b9336b373b35d167dda20bca7efc2c23585\n",
    "```"
   ]
  },
  {
   "cell_type": "markdown",
   "metadata": {
    "slideshow": {
     "slide_type": "subslide"
    }
   },
   "source": [
    "# Passo 4: utilizando notebooks\n",
    "\n",
    "![Notebook](images/python-notebook.png)"
   ]
  },
  {
   "cell_type": "markdown",
   "metadata": {
    "slideshow": {
     "slide_type": "slide"
    }
   },
   "source": [
    "# Sistemas de Versionamento\n",
    "\n",
    "- Mantém versões de arquivos ao longo do tempo\n",
    "- Repositório\n",
    "    - Local onde estão armazenados os arquivos e suas versões\n",
    "    - Sujeito a operações de check out, e check in\n",
    "    - Impede que versões conflitantes sejam depositadas inadvertidamente\n",
    "- Permitem reconstruir o estado de código fonte em momentos específicos de tempo\n",
    "    - E.g. para descobrir como um bug foi introduzido\n",
    "- Permitem criar \"ramos\" separados de bases de código (e.g. para experimentação, versões customizadas, etc)"
   ]
  },
  {
   "cell_type": "markdown",
   "metadata": {
    "slideshow": {
     "slide_type": "subslide"
    }
   },
   "source": [
    "# Git\n",
    "- Sistema de versionamento distribuído:\n",
    "    - Versionamento\n",
    "    - Distribuído: múltiplas cópias dos arquivos em diversos clones de um repositório\n",
    "- Repositórios distribuídos:\n",
    "    - Permitem versionamento e desenvolvimento em paralelo \n",
    "    - Sincronização com repositórios através operações de push e pull\n"
   ]
  },
  {
   "cell_type": "markdown",
   "metadata": {
    "slideshow": {
     "slide_type": "subslide"
    }
   },
   "source": [
    "# Github (www.github.com)\n",
    "- Serviço de versionamento online baseado em Git\n",
    "- Interfaces para:\n",
    "    - Versionamento Git\n",
    "    - Acompanhamento de bugs, features, tarefas\n",
    "    - Gerência de projetos\n",
    "- Oferece pacotes acadêmicos gratis\n",
    "- Github classroom:\n",
    "    - Facilidades para desenvolvimento de trabalhos acadêmicos\n"
   ]
  },
  {
   "cell_type": "markdown",
   "metadata": {
    "slideshow": {
     "slide_type": "slide"
    }
   },
   "source": [
    "# Criando um Repositório (no Github) 1\n",
    "\n",
    "- Primeiro passo: criar um *endpoint* para o master no servidor\n",
    "\n",
    "## Em conta pessoal\n",
    "![New Repo1](images/new-repo-person.png)\n",
    "\n",
    "\n"
   ]
  },
  {
   "cell_type": "markdown",
   "metadata": {
    "slideshow": {
     "slide_type": "subslide"
    }
   },
   "source": [
    "# Criando um Repositório (no Github) 1\n",
    "\n",
    "## Em conta organizacional\n",
    "![New Repo1](images/new-repo.png)"
   ]
  },
  {
   "cell_type": "markdown",
   "metadata": {
    "slideshow": {
     "slide_type": "subslide"
    }
   },
   "source": [
    "# Criando um Repositório (no Github) 2\n",
    "\n",
    "- Segundo passo: preencher formulários\n",
    "![New Repo1](images/new-repo-forms.png)"
   ]
  },
  {
   "cell_type": "markdown",
   "metadata": {
    "slideshow": {
     "slide_type": "slide"
    }
   },
   "source": [
    "# Populando o repositório\n",
    "\n",
    "- Crie um repositório local (init)\n",
    "- Adicione um arquivo qualquer nele, tipicamente README.md (add, commit)\n",
    "- Conecte o repositório local ao servidor (add origin)\n",
    "- Sincronise o repositório local (master) com o servidor (origin)\n",
    "\n",
    "```bash\n",
    "echo \"# brainhack-demo\" >> README.md\n",
    "git init\n",
    "git add README.md\n",
    "git commit -m \"first commit\"\n",
    "git remote add origin https://github.com/meneguzzi/brainhack-demo.git\n",
    "git push -u origin master\n",
    "```\n",
    "\n",
    "Após o push, a página do Github deve mostrar seu arquivo:\n",
    "![Populated Repo](images/new-repo-populated.png)"
   ]
  },
  {
   "cell_type": "markdown",
   "metadata": {
    "slideshow": {
     "slide_type": "subslide"
    }
   },
   "source": [
    "# Clonando um Repositório\n",
    "\n",
    "- Replica repositório **todo**,incluindo histórico de modificações, para o computador local (isto pode ocupar espaço considerável)\n",
    "    - Alternativa é clonar com profundidade 1 ```git clone --depth=1``` \n",
    "    - Isto copia apenas a última versão dos arquivos \n",
    "- Recapitulando:\n",
    "    - ```origin``` é o nome padrão do ramo principal que vive no servidor\n",
    "    - ```master``` é o nome padrão do ramo que vive no computador local\n",
    "```bash\n",
    "meneguzzi$ git clone https://github.com/meneguzzi/brainhack-demo.git\n",
    "Cloning into 'brainhack-demo'...\n",
    "remote: Counting objects: 3, done.\n",
    "remote: Total 3 (delta 0), reused 3 (delta 0), pack-reused 0\n",
    "Unpacking objects: 100% (3/3), done.\n",
    "```"
   ]
  },
  {
   "cell_type": "markdown",
   "metadata": {
    "slideshow": {
     "slide_type": "subslide"
    }
   },
   "source": [
    "# Commits e Pushes\n",
    "- ```git commit``` $\\rightarrow$ atualiza um arquivo no repositório ```master``` (o ramo local)\n",
    "- ```git push``` $\\rightarrow$ sincroniza o ramo ```master``` com o ramo ```origin``` (no servidor)  \n",
    "\n",
    "```bash\n",
    "meneguzzi$ git commit -m \"Minor change to README\" *\n",
    "[master 72c11bf] Minor change to README\n",
    " 1 file changed, 2 insertions(+)\n",
    "meneguzzi$ git push\n",
    "Counting objects: 3, done.\n",
    "Delta compression using up to 8 threads.\n",
    "Compressing objects: 100% (2/2), done.\n",
    "Writing objects: 100% (3/3), 317 bytes | 317.00 KiB/s, done.\n",
    "Total 3 (delta 0), reused 0 (delta 0)\n",
    "To https://github.com/meneguzzi/brainhack-demo.git\n",
    "   c4ebe76..72c11bf  master -> master\n",
    "```"
   ]
  },
  {
   "cell_type": "markdown",
   "metadata": {
    "slideshow": {
     "slide_type": "subslide"
    }
   },
   "source": [
    "# Pulls\n",
    "- ```git pull``` sincroniza o ramo ```master``` (clone local) com mudanças no ramo ```origin``` (no servidor)\n",
    "- Se houverem modificações concorrentes no servidor, podem haver conflitos a serem resolvidos\n",
    "\n",
    "```bash\n",
    "meneguzzi$ git pull\n",
    "remote: Counting objects: 6, done.\n",
    "remote: Compressing objects: 100% (3/3), done.\n",
    "remote: Total 6 (delta 1), reused 6 (delta 1), pack-reused 0\n",
    "Unpacking objects: 100% (6/6), done.\n",
    "From https://github.com/meneguzzi/brainhack-demo\n",
    "   fd720a2..8fdb1d4  master     -> origin/master\n",
    "Updating fd720a2..8fdb1d4\n",
    "Fast-forward\n",
    " README.md | 2 +-\n",
    " 1 file changed, 1 insertion(+), 1 deletion(-)\n",
    "```"
   ]
  },
  {
   "cell_type": "markdown",
   "metadata": {
    "slideshow": {
     "slide_type": "slide"
    }
   },
   "source": [
    "# Conflitos\n",
    "- Quando duas cópias locais de um repositório possuem edições concorrentes no mesmo trecho de código, isto representa um conflito\n",
    "![Repo Conflict](images/repo-conflict.png)"
   ]
  },
  {
   "cell_type": "markdown",
   "metadata": {
    "slideshow": {
     "slide_type": "subslide"
    }
   },
   "source": [
    "# Resolvendo conflitos manualmente\n",
    "- Arquivos em conflito estão anotados com commentários no formato de um [diff](https://en.wikipedia.org/wiki/Diff)\n",
    "    - ```<<< HEAD``` até ```====``` representa o seu conteúdo local\n",
    "    - ```====``` até ```>>>``` é o conteúdo conflitante no repositório\n",
    "- Você escolhe que partes do código devem permanecer\n",
    "![Conflict edit](images/repo-conflict-edit.png)\n",
    "```bash\n",
    "meneguzzi$ git pull\n",
    "remote: Counting objects: 3, done.\n",
    "remote: Compressing objects: 100% (2/2), done.\n",
    "Unpacking objects: 100% (3/3), done.\n",
    "remote: Total 3 (delta 0), reused 3 (delta 0), pack-reused 0\n",
    "From https://github.com/meneguzzi/brainhack-demo\n",
    "   72c11bf..fd720a2  master     -> origin/master\n",
    "Auto-merging README.md\n",
    "CONFLICT (content): Merge conflict in README.md\n",
    "Automatic merge failed; fix conflicts and then commit the result.\n",
    "```"
   ]
  },
  {
   "cell_type": "markdown",
   "metadata": {
    "slideshow": {
     "slide_type": "subslide"
    }
   },
   "source": [
    "# Concluindo a resolução de conflitos\n",
    "- Quando terminar a edição dos arquivos:\n",
    "    - ```git add``` $\\rightarrow$ marca o conflito como resolvido\n",
    "    - ```git commit``` $\\rightarrow$ levará edição de uma mensagem começando com o texto abaixo \n",
    "    ```bash\n",
    "    Merge branch 'master' of https://github.com/meneguzzi/brainhack-demo\n",
    "    ```\n",
    "    - ```git push``` $\\rightarrow$ tudo resolvido\n",
    "    \n",
    "```bash\n",
    "meneguzzi$ git add README.md\n",
    "meneguzzi$ git commit\n",
    "[master 8fdb1d4] Merge branch 'master' of https://github.com/meneguzzi/brainhack-demo\n",
    "meneguzzi$ git push\n",
    "Counting objects: 6, done.\n",
    "Delta compression using up to 8 threads.\n",
    "Compressing objects: 100% (4/4), done.\n",
    "Writing objects: 100% (6/6), 625 bytes | 625.00 KiB/s, done.\n",
    "Total 6 (delta 1), reused 0 (delta 0)\n",
    "remote: Resolving deltas: 100% (1/1), done.\n",
    "To https://github.com/meneguzzi/brainhack-demo.git\n",
    "   fd720a2..8fdb1d4  master -> master\n",
    "```\n",
    " "
   ]
  },
  {
   "cell_type": "markdown",
   "metadata": {
    "slideshow": {
     "slide_type": "slide"
    }
   },
   "source": [
    "# Em resumo\n",
    "![Git overview](images/git-overview.png)"
   ]
  },
  {
   "cell_type": "markdown",
   "metadata": {
    "slideshow": {
     "slide_type": "slide"
    }
   },
   "source": [
    "# Ferramentas Git\n",
    "Github Desktop\n",
    "![Github Desktop](images/github-desktop.png)"
   ]
  },
  {
   "cell_type": "markdown",
   "metadata": {
    "slideshow": {
     "slide_type": "subslide"
    }
   },
   "source": [
    "# Ferramentas Git\n",
    "SourceTree\n",
    "![SourceTree](images/sourcetree.png)"
   ]
  },
  {
   "cell_type": "markdown",
   "metadata": {
    "slideshow": {
     "slide_type": "subslide"
    }
   },
   "source": [
    "# Ferramentas Git\n",
    "Git Kracken\n",
    "![Git Kracken](images/git-kracken.png)"
   ]
  },
  {
   "cell_type": "markdown",
   "metadata": {
    "slideshow": {
     "slide_type": "slide"
    }
   },
   "source": [
    "# Conclusão\n",
    "\n",
    "- Python é uma excelente linguagem de programação para prototipagem\n",
    "- Maioria das tarefas de aprendizado de máquina estão disponíveis\n",
    "    - Bibliotecas com os principais algoritmos também estão disponíveis\n",
    "    - (as vezes em uma organização demasiadamente dispersa)\n",
    "- Não tente reinventar a roda\n"
   ]
  },
  {
   "cell_type": "markdown",
   "metadata": {
    "slideshow": {
     "slide_type": "slide"
    }
   },
   "source": [
    "# Avaliações deste curso\n",
    "\n",
    "- As avaliações deste curso serão feitas utilizando o Github classroom\n",
    "![Github](images/github-classroom.png)\n",
    "- Repositórios na organização @pucrs-datascience [https://github.com/pucrs-datascience/]\n",
    "    - Código dos notebooks está em: https://github.com/pucrs-datascience/python-notebooks\n",
    "    - Link para iniciar o seu clone pessoal: https://classroom.github.com/a/mIAZHxvt\n",
    "- Registre seu usuário Git até a próxima aula e use o link acima"
   ]
  },
  {
   "cell_type": "markdown",
   "metadata": {
    "slideshow": {
     "slide_type": "slide"
    }
   },
   "source": [
    "# Python: Conceitos Básicos\n",
    "Felipe Meneguzzi e Henry Cagnini"
   ]
  },
  {
   "cell_type": "markdown",
   "metadata": {
    "slideshow": {
     "slide_type": "slide"
    }
   },
   "source": [
    "# Variáveis, tipos de dados\n",
    "\n",
    "- Python manipula **objetos** \n",
    "- Cada objeto possui um **tipo**\n",
    "    - Tipos definem que operações podem ser realizadas em cada objeto\n",
    "    - Tipos podem ser **escalares** o ou **não-escalares**\n",
    "        - Objetos escalares são indivisíveis\n",
    "        - Objetos não-escalares possuem estrutura interna (e.g. strings)\n",
    "    - Python possui quatro tipos de objetos escalares:\n",
    "        - ```int``` representam inteiros\n",
    "        - ```float``` representam números reais em **ponto flutuante**\n",
    "        - ```bool``` representam valores lógicos booleanos ```True``` e ```False```\n",
    "        - ```NoneType``` é um tipo com valor único, denotando ```None``` representando a ausência de quaisquer outros valores\n",
    "\n",
    "- **Variáveis** associam nomes a objetos\n",
    "    - O operador ```=``` associa o valor de uma **expressão** a uma variável\n",
    "    - Expressões sempre resultam em um objeto de algum tipo\n",
    "    "
   ]
  },
  {
   "cell_type": "markdown",
   "metadata": {
    "slideshow": {
     "slide_type": "slide"
    }
   },
   "source": [
    "# Conversões de tipos\n",
    "\n",
    "- Tipos básicos de python possuem uma variedade de operações de conversão de tipo:\n",
    "    - ```int(p)``` converterá ```p``` para inteiro\n",
    "        - Possível converter strings ```str``` e números em ponto flutuante ```float```\n",
    "    - ```float(p)``` converterá ```p``` para ponto flutuante\n",
    "        - Possível converter strings ```str``` e números inteiros ```int```\n",
    "    - ```str(p)``` converterá ```p``` para uma representação em string\n",
    "        - Possível converter ```int```, ```float```, ```list```, ```tuple```, ```dict```\n",
    "    - ```list(p)``` converterá ```p``` para uma lista\n",
    "        - Possível converter ```str```, ```tuple```, ```dict```\n",
    "    - ```tuple(p)``` converterá ```p``` para uma tupla\n",
    "        - Possível converter ```str```, ```list```"
   ]
  },
  {
   "cell_type": "markdown",
   "metadata": {
    "slideshow": {
     "slide_type": "slide"
    }
   },
   "source": [
    "# Operadores matemáticos e comparativos\n",
    "\n",
    "Escalares em Python possuem um conjunto básico de operadores.\n",
    "- Os tipos ```int``` e ```float``` possuem os seguintes operadores matemáticos:\n",
    "    - ```i+j``` representa a adição de ```i``` e ```j``` \n",
    "    - ```i-j``` representa a subtração de ```i``` e ```j```\n",
    "    - ```i*j``` representa a multiplicação de ```i``` e ```j```, \n",
    "    - ```i**j``` representa ```i``` elevado a potência ```j```, para estas quatro operações:\n",
    "        - se ambos ```i``` e ```j``` forem do tipo ```int``` o resultado será do tipo ```int```; \n",
    "        - se qualquer um deles for do tipo ```float```, o resultado também será do tipo ```float```\n",
    "    - ```i//j``` representa a divisão *inteira* de ```i``` e ```j``` (então o resultado será sempre ```int```)\n",
    "    - ```i/j``` representa a divisão *em ponto flutuante* de ```i``` e ```j``` (isto, em Python 3, então o resultado será sempre ```float```)\n",
    "    - ```i%j``` representa o *resto da divisão inteira* de ```i``` e ```j``` (então o resultado será sempre ```int```)\n",
    "- De forma similar, estes tipos possuem os operadores comparativos:\n",
    "    - ```==``` (igual);\n",
    "    - ```!=``` (diferente)\n",
    "    - ```>``` (maior que)\n",
    "    - ```>=``` (maior ou igual a)\n",
    "    - ```<``` (menor que); e\n",
    "    - ```<=``` (menor ou igual a).\n",
    "- Objetos ```bool``` possuem os seguintes operadores lógicos\n",
    "    - ```a and b``` conjunção;\n",
    "    - ```a or b``` disjunção;\n",
    "    - ```not a``` negação."
   ]
  },
  {
   "cell_type": "markdown",
   "metadata": {
    "slideshow": {
     "slide_type": "slide"
    }
   },
   "source": [
    "# Importação de módulos\n",
    "\n",
    "- Conjuntos de programas e classes em python são organizados em arquivos individuais ou **módulos**\n",
    "- Módulos organizam uma coleção lógicamente relacionada de programs distribuídos em um ou mais arquivos\n",
    "- Tipicamente um arquivo individual ```.py``` representa um módulo que pode ser importado\n",
    "    - Por exemplo considere o arquivo ```circle.py``` com um conjunto de funções\n",
    "    - Podemos acessar as funções de ```circle.py``` a partir de outro arquivo usando o comando ```import circle```\n",
    "- Módulos nos permite acessar diversas funções *built-in* da linguagem, por exemplo no módulo ```math``` (usando ```import math```, temos acesso a diversas funções matemáticas:\n",
    "    - ```math.sin(x)``` retorna o seno de ```x```\n",
    "    - ```math.sqrt(x)``` retorna a raiz quadrada de ```x```\n",
    " "
   ]
  },
  {
   "cell_type": "markdown",
   "metadata": {
    "slideshow": {
     "slide_type": "slide"
    }
   },
   "source": [
    "# Ramificações, laços e iterações\n",
    "\n",
    "- Condicionais em Python utilizam as palavras reservadas ```if```, ```else```, e ```elif```:\n",
    "```python\n",
    "if Boolean expression: \n",
    "    block of code\n",
    "elif Boolean expression: \n",
    "    block of code\n",
    "else:\n",
    "    block of code\n",
    "```\n",
    "Por exemplo\n",
    "```python\n",
    "if x > 0: \n",
    "    return x\n",
    "elif x < 0:\n",
    "    return -x\n",
    "else:\n",
    "    return None\n",
    "```\n",
    "![Branching](images/branching-diagram.png)\n",
    "\n",
    "- Note que Python utiliza indentação de forma semanticamente significativa\n",
    "    - Cada bloco de programa está em um nível de indentação diferente\n",
    "\n",
    "- Laços em python utilizam a palavra reservada while\n",
    "```python\n",
    "while Boolean expression: \n",
    "    block of code\n",
    "```\n",
    "Por exemplo:\n",
    "```python\n",
    "# Square an integer, the hard way x=3\n",
    "ans = 0\n",
    "itersLeft = x\n",
    "while (itersLeft != 0): \n",
    "    ans = ans + x\n",
    "    itersLeft = itersLeft - 1\n",
    "```\n",
    "![Loop](images/branching-diagram.png)\n",
    "\n",
    "- Iterações (em tipos que suportam iteração) utilizam a palavra reservada ```for```\n",
    "```python\n",
    "for variable in sequence: \n",
    "    code block\n",
    "```\n",
    "Por exemplo\n",
    "```python\n",
    "for i in range(0,10): \n",
    "    print(i)\n",
    "```"
   ]
  },
  {
   "cell_type": "markdown",
   "metadata": {
    "slideshow": {
     "slide_type": "slide"
    }
   },
   "source": [
    "# Strings, Entrada e Saída\n",
    "\n",
    "- Objetos do tipo ```str``` (para strings) são declarados tanto com aspas simples ```'abs'``` quanto com aspas duplas ```\"abs\"```\n",
    "- Possuem diversos operadores:\n",
    "    - Concatenação de strings ```\"abc\"+\"def\"``` resulta na string ```abcdef```\n",
    "    - Replicação um certo número de vezes ```3*\"a\"``` resulta em ```aaa```\n",
    "    - Indexação pode ser usada para extrair caracteres específicos ```\"abc\"[0]``` resultará no caracter ```'a'```\n",
    "        - Strings são **constantes** e **imutáveis**\n",
    "- Python 3 possui apenas um comando de entrada: ```input``` \n",
    "    - Único parâmetro é uma string texto a ser apresentada ao usuário:\n",
    "- Entretando diversas variações do comando de saída ```print```:\n",
    "    - ```print(\"Algum texto\")```\n",
    "    - ```print(\"Texto formatado com número %d\"%12)``` imprime ```\"Texto formatado com número 12\"```\n",
    "    - ```print(\"Algum texto\",end=\"\")``` imprime sem quebra de linha\n",
    "    ```python\n",
    "    >>> name = raw_input('Enter your name: ') \n",
    "    Enter your name: George Washington\n",
    "    >>> print 'Are you really', name, '?'\n",
    "    Are you really George Washington ?\n",
    "    ```    "
   ]
  },
  {
   "cell_type": "markdown",
   "metadata": {
    "slideshow": {
     "slide_type": "slide"
    }
   },
   "source": [
    "# Exceções\n",
    "\n",
    "- Exceções indicam uma condição fora do comum ocorrendo em um programa\n",
    "- Permitem tratamento de erros e eventualidades de forma separada à saída regular de uma função\n",
    "- Utilizadas de diversas formas nas bibliotecas Python\n",
    "- Tratamento de Exceções:\n",
    "    - Quando ocorre uma exceção, um programa termina, retornando ao programa chamante\n",
    "    - Caso a exceção não seja capturada, ela pode ser propagada até o programa principal (e terminar o programa inteiro)\n",
    "No exemplo:\n",
    "\n",
    "```python\n",
    "successFailureRatio = numSuccesses/float(numFailures) \n",
    "print ('The success/failure ratio is', successFailureRatio)\n",
    "print ('Now here')\n",
    "```\n",
    "\n",
    "Caso o número de falhas ```numFailures``` for 0, teremos uma exceção ```ZeroDivisionError``` e nenhum print ocorrerá\n",
    "Tratando a exceção, teremos o código\n",
    "\n",
    "```python\n",
    "try:  \n",
    "   successFailureRatio = numSuccesses/float(numFailures)  \n",
    "   print('The success/failure ratio is', successFailureRatio)  \n",
    "except ZeroDivisionError:  \n",
    "   print('No failures so the success/failure ratio is undefined.')  \n",
    "print 'Now here'\n",
    "```"
   ]
  },
  {
   "cell_type": "markdown",
   "metadata": {
    "slideshow": {
     "slide_type": "-"
    }
   },
   "source": [
    "# Utilizando Exceções como Controle de Fluxo\n"
   ]
  },
  {
   "cell_type": "markdown",
   "metadata": {
    "slideshow": {
     "slide_type": "slide"
    }
   },
   "source": [
    "# Asserções"
   ]
  },
  {
   "cell_type": "markdown",
   "metadata": {
    "slideshow": {
     "slide_type": "slide"
    }
   },
   "source": [
    "# Funções em Python\n",
    "Felipe Meneguzzi e Henry Cagnini"
   ]
  },
  {
   "cell_type": "markdown",
   "metadata": {
    "slideshow": {
     "slide_type": "slide"
    }
   },
   "source": [
    "# Boas práticas de programação\n",
    "- Grandes volumes de código não são necessariamente bons para legibilidade\n",
    "- Idealmente, melhor codificar unidades de funcionalidade\n",
    "- Para isto, utilizamos a noção de **funções**\n",
    "- Mecanismo para atingir **decomposição** e **abstração**"
   ]
  },
  {
   "cell_type": "markdown",
   "metadata": {
    "slideshow": {
     "slide_type": "slide"
    }
   },
   "source": [
    "# Declaração de Funções\n",
    "\n",
    "As declarações de função utilizam a palavra reservada ```def```\n",
    "```python\n",
    "def function():\n",
    "\t\tpass\n",
    "```"
   ]
  },
  {
   "cell_type": "markdown",
   "metadata": {
    "slideshow": {
     "slide_type": "skip"
    }
   },
   "source": [
    "# Parâmetros\n",
    "- Parâmetros proveem algo chamado: **lambda abstraction**\n",
    "    - Permite escrever código que manipula objetos não específicos\n",
    "    - Os objetos serão definidos pelo chamador da função"
   ]
  },
  {
   "cell_type": "markdown",
   "metadata": {
    "slideshow": {
     "slide_type": "slide"
    }
   },
   "source": [
    "## Exemplo de sintaxe\n",
    "\n",
    "```python\n",
    "def printName(nome, sobrenome, inverte=False):\n",
    "    if inverte:\n",
    "        print(nome+\" \"+sobrenome)\n",
    "    else:\n",
    "        print(sobrenome+\", \"+nome)\n",
    "```"
   ]
  },
  {
   "cell_type": "markdown",
   "metadata": {
    "slideshow": {
     "slide_type": "slide"
    }
   },
   "source": [
    "## Tipos de parâmetros \n",
    "\n",
    "- Posicionais:\n",
    "    - A ordem dos parâmetros reais deve ser a mesma dos parâmetros formais\n",
    "```python\n",
    "printName(\"Felipe\",\"Meneguzzi\",True)\n",
    "```"
   ]
  },
  {
   "cell_type": "markdown",
   "metadata": {
    "slideshow": {
     "slide_type": "slide"
    }
   },
   "source": [
    "## Tipos de parâmetros\n",
    "\n",
    "- Palavra-chave:\n",
    "    - Usa-se o nome do parâmetro para indicar seu valor\n",
    "```python\n",
    "printName(sobrenome=\"Meneguzzi\",nome=\"Felipe\")\n",
    "```"
   ]
  },
  {
   "cell_type": "markdown",
   "metadata": {
    "slideshow": {
     "slide_type": "slide"
    }
   },
   "source": [
    "## Tipos de parâmetros \n",
    "\n",
    "- Default:\n",
    "    - Se omitido assume valor padrão\n",
    "```python\n",
    "def func(a, norm=False):\n",
    "    if norm:\n",
    "        return [(x - min(a))/ (max(a) - min(a)) for x in a]\n",
    "    else:\n",
    "        return a\n",
    "```"
   ]
  },
  {
   "cell_type": "markdown",
   "metadata": {
    "slideshow": {
     "slide_type": "slide"
    }
   },
   "source": [
    "## Tipos de parâmetros \n",
    "\n",
    "Exemplos de chamadas:\n",
    "```python\n",
    "In: func([1,2,3])\n",
    "Out: [1,2,3]\n",
    "In: func([1,2,3], False)\n",
    "Out: [1,2,3]\n",
    "In: func([1,2,3], True)\n",
    "Out: [0, 0.5, 1]\n",
    "In: func([1,2,3], norm=True)\n",
    "Out: [0, 0.5, 1]\n",
    "```"
   ]
  },
  {
   "cell_type": "markdown",
   "metadata": {
    "slideshow": {
     "slide_type": "slide"
    }
   },
   "source": [
    "# Parâmetros não nomeados\n",
    "- Se você não souber quantos parâmetros uma função receberá, utilize **\\*args** para denotar este comportamento:\n",
    "    - Na função abaixo: args codifica uma lista de parâmetros sem nome que foram passados para a função\n",
    "    \n",
    "```python\n",
    "def func(*args):\n",
    "    for item in args:\n",
    "        print(item)\n",
    "```\n",
    "\n",
    "Exemplo de uso:\n",
    "```python\n",
    "In: func(1, 2, 'c')\n",
    "Out: \n",
    "    1\n",
    "    2\n",
    "   'c'\n",
    "```"
   ]
  },
  {
   "cell_type": "markdown",
   "metadata": {
    "slideshow": {
     "slide_type": "slide"
    }
   },
   "source": [
    "# Parâmetros não nomeados\n",
    "- Se você não souber quantos parâmetros uma função receberá, mas apenas que eles devem ser **nomeados**, utilize **\\*\\*kwargs**:\n",
    "    - kwargs codifica um dicionário, onde a chave é o nome do parâmetro\n",
    "\n",
    "```python\n",
    "def func(**kwargs):\n",
    "    for key, value in kwargs.items():\n",
    "        print(key, value)\n",
    "```\n",
    "\n",
    "Exemplo de uso:\n",
    "```python\n",
    "In: func(a=1, b=2, c=‘d’)\n",
    "Out: ‘a’,  1\n",
    " ‘b’,  2\n",
    " ‘c’, ‘d’\n",
    "\n",
    "```"
   ]
  },
  {
   "cell_type": "markdown",
   "metadata": {
    "slideshow": {
     "slide_type": "slide"
    }
   },
   "source": [
    "## Verificação de tipos\n",
    "\n",
    "- Em python 3.X, o programador pode definir o tipo dos parâmetros\n",
    "- Python 2.7 não possui verificação automática de tipos\n",
    "    - Código abaixo ilustra como se faz verificação explicita de tipos em Python 2.7\n",
    "\n",
    "```python\n",
    "def func(param):  \n",
    "    if isinstance(param, list):\n",
    "        print ‘list’\n",
    "    else:\n",
    "        print type(param)\n",
    "```"
   ]
  },
  {
   "cell_type": "code",
   "execution_count": 4,
   "metadata": {
    "slideshow": {
     "slide_type": "slide"
    }
   },
   "outputs": [
    {
     "name": "stdout",
     "output_type": "stream",
     "text": [
      "1\n",
      "2\n",
      "c\n"
     ]
    }
   ],
   "source": [
    "def my_func(some_list: list):\n",
    "    for p in some_list:\n",
    "        print(p)\n",
    "        \n",
    "a = [1, 2, 3]\n",
    "my_func(a)"
   ]
  },
  {
   "cell_type": "code",
   "execution_count": 7,
   "metadata": {
    "slideshow": {
     "slide_type": "slide"
    }
   },
   "outputs": [
    {
     "data": {
      "text/plain": [
       "[1, 4, 9]"
      ]
     },
     "execution_count": 7,
     "metadata": {},
     "output_type": "execute_result"
    }
   ],
   "source": [
    "def my_func(some_list: list) -> list:\n",
    "    for i in range(len(some_list)):\n",
    "        some_list[i] **= 2  # eleva cada membro da lista ao quadrado\n",
    "    return some_list\n",
    "        \n",
    "a = [1, 2, 3]\n",
    "my_func(a)"
   ]
  },
  {
   "cell_type": "markdown",
   "metadata": {
    "slideshow": {
     "slide_type": "slide"
    }
   },
   "source": [
    "## Documentação de funções\n",
    "\n",
    "- Definem um *contrato* entre o programador que escreve a função e os programadores que irão usar a função em seus programas\n",
    "\n",
    "- O contrato tem duas partes:\n",
    "    - Pré condições (premissas): asserções que devem ser verdadeiras para que a função possa ser utilizada\n",
    "    - Pós condições (garantias): asserções que o desenvolvedor da função garante que serão verdadeiras após a execução da função"
   ]
  },
  {
   "cell_type": "code",
   "execution_count": 10,
   "metadata": {
    "slideshow": {
     "slide_type": "slide"
    }
   },
   "outputs": [],
   "source": [
    "def findRoot(x, power, epsilon): \n",
    "    \"\"\"\n",
    "    :param x: base\n",
    "    :type x: float\n",
    "    :param power: Expoente. deve ser maior ou igual a 1\n",
    "    :type power: int\n",
    "    :param epsilon: margem de erro. Deve ser maior que zero.\n",
    "    :type epsilon:\n",
    "    :return: Retorna um valor y, de tal forma que y ** power é aproximado de x \n",
    "        (dada a margem de erro epsilon). Se este valor não existir, retorna None\n",
    "    :rtype: float\n",
    "    \"\"\"\n",
    "    if x < 0 and power % 2 == 0:\n",
    "        return None\n",
    "    low = min(-1.0, x)\n",
    "    high = max(1.0, x)\n",
    "    ans = (high + low)/2.0\n",
    "    while abs(ans ** power - x) >= epsilon:\n",
    "        if ans ** power < x:\n",
    "            low = ans\n",
    "        else:\n",
    "            high = ans\n",
    "        ans = (high + low)/2.0\n",
    "    return ans"
   ]
  },
  {
   "cell_type": "code",
   "execution_count": 18,
   "metadata": {
    "slideshow": {
     "slide_type": "fragment"
    }
   },
   "outputs": [
    {
     "name": "stdout",
     "output_type": "stream",
     "text": [
      "achando a base para o expoente 2 que mais se aproxima de 10: 3.16796875\n",
      "3.17^2 = 10.036026 = 10.000000 - 0.100000\n"
     ]
    }
   ],
   "source": [
    "expoente = 2\n",
    "x = 10\n",
    "epsilon = 0.1\n",
    "y = findRoot(x, expoente, epsilon)\n",
    "\n",
    "print('achando a base para o expoente 2 que mais se aproxima de 10:', y)\n",
    "print('%.2f^%.0f = %f = %f - %f' % (y, expoente, (y**expoente), x, epsilon))"
   ]
  },
  {
   "cell_type": "markdown",
   "metadata": {
    "slideshow": {
     "slide_type": "slide"
    }
   },
   "source": [
    "# Funções de teste\n",
    "\n",
    "- Úteis para detecção de bugs\n",
    "    - Ajudam na etapa de manutenção\n",
    "    - Casos de teste facilmente gerados a partir da especificação\n",
    "    - Desenvolvidas antecipadamente"
   ]
  },
  {
   "cell_type": "code",
   "execution_count": 22,
   "metadata": {
    "slideshow": {
     "slide_type": "slide"
    }
   },
   "outputs": [],
   "source": [
    "def testFindRoot():\n",
    "    epsilon = 0.0001\n",
    "    for x in [0.25, -0.25, 2, -2, 8, -8]:\n",
    "        for power in range (1, 4):\n",
    "            print(\"Testing x =\",str(x),\"and power = \",power)\n",
    "            result = findRoot(x,power,epsilon)\n",
    "            if result == None:\n",
    "                print(\" No root\")\n",
    "            else:\n",
    "                print(\" \",result**power,\"==\",x)"
   ]
  },
  {
   "cell_type": "code",
   "execution_count": 23,
   "metadata": {
    "slideshow": {
     "slide_type": "fragment"
    }
   },
   "outputs": [
    {
     "name": "stdout",
     "output_type": "stream",
     "text": [
      "Testing x = 0.25 and power =  1\n",
      "  0.25 == 0.25\n",
      "Testing x = 0.25 and power =  2\n",
      "  0.25 == 0.25\n",
      "Testing x = 0.25 and power =  3\n",
      "  0.24990749079734087 == 0.25\n",
      "Testing x = -0.25 and power =  1\n",
      "  -0.25 == -0.25\n",
      "Testing x = -0.25 and power =  2\n",
      " No root\n",
      "Testing x = -0.25 and power =  3\n",
      "  -0.24990749079734087 == -0.25\n",
      "Testing x = 2 and power =  1\n",
      "  1.999908447265625 == 2\n",
      "Testing x = 2 and power =  2\n",
      "  2.0000906325876713 == 2\n",
      "Testing x = 2 and power =  3\n",
      "  2.000059155646067 == 2\n",
      "Testing x = -2 and power =  1\n",
      "  -1.999908447265625 == -2\n",
      "Testing x = -2 and power =  2\n",
      " No root\n",
      "Testing x = -2 and power =  3\n",
      "  -2.000059155646067 == -2\n",
      "Testing x = 8 and power =  1\n",
      "  7.999931335449219 == 8\n",
      "Testing x = 8 and power =  2\n",
      "  7.99999568007479 == 8\n",
      "Testing x = 8 and power =  3\n",
      "  8.000068664747232 == 8\n",
      "Testing x = -8 and power =  1\n",
      "  -7.999931335449219 == -8\n",
      "Testing x = -8 and power =  2\n",
      " No root\n",
      "Testing x = -8 and power =  3\n",
      "  -8.000068664747232 == -8\n"
     ]
    }
   ],
   "source": [
    "testFindRoot()"
   ]
  },
  {
   "cell_type": "markdown",
   "metadata": {
    "slideshow": {
     "slide_type": "slide"
    }
   },
   "source": [
    "## Por que utilizar funções?\n",
    "\n",
    "- Decomposição\n",
    "    - Cria uma estrutura\n",
    "    - Quebra o programa em partes razoavelmente autocontidas\n",
    "    - Estrutura pode ser facilmente reusada em diferentes contextos\n",
    "\n",
    "- Abstração\n",
    "    - Esconde detalhes\n",
    "    - Permite usar trecho de código como “caixa-preta”\n",
    "    - Preserva a informação relevante para um contexto\n",
    "    - Ignora detalhes que não são relevantes naquele contexto\n",
    "\n"
   ]
  },
  {
   "cell_type": "markdown",
   "metadata": {
    "slideshow": {
     "slide_type": "slide"
    }
   },
   "source": [
    "# Recursão\n",
    "- Algoritmicamente: maneira de projetar soluções de problemas por uma estratégia de **dividir e conquistar** ou **decrementar e conquistar**\n",
    "    - Reduz o problema a versões mais simples do mesmo problema\n",
    "- Semanticamente: uma técnica de programação onde a **função chama a si mesma**\n",
    "    - em programação, o objetivo é **não ter** recursão infinita\n",
    "        - deve ter **1 ou mais casos base** que são facilmente solucionáveis\n",
    "        - deve resolver o mesmo problema em **alguma outra entrada** com o objetivo de simplificar o problema maior dado"
   ]
  },
  {
   "cell_type": "markdown",
   "metadata": {
    "slideshow": {
     "slide_type": "slide"
    }
   },
   "source": [
    "# Elementos de um algoritmo recursivo\n",
    "- Caso base\n",
    "- Passo de indução\n",
    "\n",
    "```python\n",
    "def fat(n):\n",
    "    \"\"\" Assume que n é um int e n > 0\n",
    "        Retorna n! \"\"\"\n",
    "    if n==1:\n",
    "        return n\n",
    "    else:\n",
    "        return n*fat(n-1)\n",
    "```\n",
    "\n",
    "- Definição recursiva da função fatorial:\n",
    "    - $1! = 1$\n",
    "    - $n! = n * (n-1)!$ "
   ]
  },
  {
   "cell_type": "markdown",
   "metadata": {
    "slideshow": {
     "slide_type": "slide"
    }
   },
   "source": [
    "# Ponteiros para funções\n",
    "- Funções em Python são \"objetos de primeira classe\"\n",
    "    - Podem ser manipuladas como qualquer outro objeto\n",
    "    - Podem ser passadas por parâmetro\n",
    "    - Permitem realizar **programação de alta ordem** (útil para listas)"
   ]
  },
  {
   "cell_type": "code",
   "execution_count": 2,
   "metadata": {
    "slideshow": {
     "slide_type": "fragment"
    }
   },
   "outputs": [
    {
     "name": "stdout",
     "output_type": "stream",
     "text": [
      "2\n",
      "3\n",
      "4\n",
      "5\n",
      "6\n",
      "7\n",
      "8\n",
      "9\n",
      "10\n"
     ]
    }
   ],
   "source": [
    "def addOne(n):\n",
    "    return n+1\n",
    "\n",
    "def applyToEach(maxN,f):\n",
    "    for i in range(1,maxN):\n",
    "        print(f(i))\n",
    "\n",
    "applyToEach(10,addOne)"
   ]
  },
  {
   "cell_type": "markdown",
   "metadata": {
    "slideshow": {
     "slide_type": "slide"
    }
   },
   "source": [
    "# Funções $\\lambda$ (lambda)\n",
    "\n",
    "- São como funções anônimas em Java\n",
    "- Retornam valores, porém não precisam do statement \"return\"\n",
    "- Geralmente são usadas em um escopo muito curto e restrito, como a chamada de uma função\n",
    "- Podem ser atribuídas a variáveis:"
   ]
  },
  {
   "cell_type": "code",
   "execution_count": 24,
   "metadata": {
    "slideshow": {
     "slide_type": "fragment"
    }
   },
   "outputs": [
    {
     "data": {
      "text/plain": [
       "3"
      ]
     },
     "execution_count": 24,
     "metadata": {},
     "output_type": "execute_result"
    }
   ],
   "source": [
    "func = lambda x: x + 1\n",
    "func(2)"
   ]
  },
  {
   "cell_type": "markdown",
   "metadata": {
    "slideshow": {
     "slide_type": "slide"
    }
   },
   "source": [
    "## Módulos\n",
    "- Funções são a unidade fundamental de decomposição\n",
    "- Programas muito grandes costumam exigir recursos adicionais\n",
    "- Módulos permitem agrupar conjuntos de variáveis e funções em um único arquivo\n",
    "- Cada módulo define seu próprio contexto\n",
    "- Um módulo pode importar outros usando o comando ```import```\n",
    "- Usa-se ```<nome do modulo>.<nome da função>``` para acessar funções definidas em outros módulos\n",
    "\n",
    "### Exemplo\n",
    "\n",
    "Módulo em ```circulo.py```\n",
    "```python\n",
    "pi = 3.14159\n",
    "\n",
    "def area(raio):\n",
    "    return pi*(raio**2)\n",
    "    \n",
    "def perimetro(raio):\n",
    "    return 2*pi*raio\n",
    "    \n",
    "def superficie(raio):\n",
    "    return 4.0*area(raio)\n",
    "    \n",
    "def volume(raio):\n",
    "    return(4.0/3.0)*pi*(raio**3)\n",
    "\n",
    "```\n",
    "\n",
    "Uso do módulo\n",
    "```python\n",
    "import circulo\n",
    "\n",
    "raio = float(input(\"Digite o raio do circulo: \"))\n",
    "\n",
    "print(\"Area do circulo:\",circulo.area(raio))\n",
    "print(\"perímetro do circulo:\",circulo.perimetro(raio))\n",
    "print(\"Volume da esfera:\",circulo.volume(raio))\n",
    "```"
   ]
  },
  {
   "cell_type": "markdown",
   "metadata": {
    "slideshow": {
     "slide_type": "slide"
    }
   },
   "source": [
    "### Definição de módulos\n",
    "\n",
    "Para definir um módulo (dentro da pasta de um projeto), é necessário:\n",
    "\n",
    "* Especificar o nome do módulo como o nome da pasta que conterá os arquivos de código\n",
    "  * Por exemplo, ```treelib```\n",
    "* Colocar um arquivo ```__init__.py``` dentro desta pasta\n",
    "  * Este arquivo contém as instruções iniciais que devem ser executadas assim que um módulo é importado. Se nenhuma instrução for necessária, ele pode ficar em branco\n",
    "* Colocar os outros arquivos de código fonte nesta pasta\n",
    "  * Por exemplo, um arquivo ```creation.py``` dentro da pasta d módulo ```treelib```\n",
    "  * Ele será importado com a seguinte sintaxe: ```treelib.creation```"
   ]
  },
  {
   "cell_type": "markdown",
   "metadata": {
    "slideshow": {
     "slide_type": "slide"
    }
   },
   "source": [
    "# Contêineres em Python\n",
    "\n",
    "## Prof. Felipe Meneguzzi e Henry Cagnini\n",
    "\n",
    "### Agenda:\n",
    "* Tipos de dados\n",
    "* Listas\n",
    "  * Índices e ordenação\n",
    "  * referências\n",
    "  * append e extend\n",
    "  * iteração\n",
    "  * indexação\n",
    "  * slicing\n",
    "  * construção com list comprehension\n",
    "  * função pré-definida map\n",
    "  * métodos\n",
    "  * funções de alta ordem\n",
    "* Tuplas\n",
    "  * função pré-definida zip\n",
    "  * função pré-definida enumerate\n",
    "* Conjuntos\n",
    "* Dicionários\n",
    "* Operadores de conjuntos\n",
    "* Itertools\n",
    "* Leitura recomendada"
   ]
  },
  {
   "cell_type": "markdown",
   "metadata": {
    "slideshow": {
     "slide_type": "slide"
    }
   },
   "source": [
    "## Tipos Escalares vs Tipos Estruturados\n",
    "- Tipos em Python podem ser **escalares** o ou **não-escalares**\n",
    "    - Objetos escalares são indivisíveis\n",
    "    - Objetos não-escalares possuem estrutura interna (e.g. strings)\n",
    "- Na aula de hoje veremos os principais tipos estruturados"
   ]
  },
  {
   "cell_type": "markdown",
   "metadata": {
    "slideshow": {
     "slide_type": "slide"
    }
   },
   "source": [
    "## Listas\n",
    "\n",
    "O que são listas?\n",
    "- Listas são **sequências ordenadas** de valores onde cada valor é identificado por um índice\n",
    "- Uma lista é denotada por **colchetes**, ```[]```\n",
    "- Listas contém **elementos**:\n",
    "    - normalmente homogênea (i.e. uma lista de inteiros)\n",
    "    - podem conter elementos misturados (incomum)\n",
    "- Listas são mutáveis (permitem inserção e remoção de elementos)\n",
    "- É possível aplicar slicing sobre listas\n",
    "\n",
    "- Listas em Python são implementadas como **listas encadeadas**"
   ]
  },
  {
   "cell_type": "markdown",
   "metadata": {
    "slideshow": {
     "slide_type": "slide"
    }
   },
   "source": [
    "## Listas\n",
    "\n",
    "- No console: ```[1, 7, 3, 5]```\n",
    "    - No hardware:\n",
    "![Lists](images/lists.png)"
   ]
  },
  {
   "cell_type": "markdown",
   "metadata": {
    "slideshow": {
     "slide_type": "slide"
    }
   },
   "source": [
    "## Listas\n",
    "\n",
    "Quando usar listas em Python?\n",
    "- Para escopos que duram **pouco tempo** \n",
    "- Quando o tamanho da lista **será alterado** \n",
    "- Quando o tamanho da lista é **pequeno**\n"
   ]
  },
  {
   "cell_type": "markdown",
   "metadata": {
    "slideshow": {
     "slide_type": "slide"
    }
   },
   "source": [
    "## Listas: índices e ordenação"
   ]
  },
  {
   "cell_type": "code",
   "execution_count": 24,
   "metadata": {
    "slideshow": {
     "slide_type": "fragment"
    }
   },
   "outputs": [
    {
     "name": "stdout",
     "output_type": "stream",
     "text": [
      "4\n",
      "2\n",
      "5\n",
      "[1, 2]\n",
      "a\n"
     ]
    }
   ],
   "source": [
    "a_list = []\n",
    "L = [2, 'a', 4, [1,2]] \n",
    "print(len(L))  #avalia para 4 \n",
    "print(L[0])    #avalia para 2 \n",
    "print(L[2]+1)  #avalia para 5\n",
    "print(L[3])    #avalia para [1,2], outra lista!\n",
    "i=2 #\n",
    "print(L[i-1])  #avalia para ‘a’ já que L[1]='a' acima"
   ]
  },
  {
   "cell_type": "markdown",
   "metadata": {
    "slideshow": {
     "slide_type": "fragment"
    }
   },
   "source": [
    "```python\n",
    "print(L[4])    #erro\n",
    "```"
   ]
  },
  {
   "cell_type": "markdown",
   "metadata": {
    "slideshow": {
     "slide_type": "slide"
    }
   },
   "source": [
    "# Listas: referências\n",
    "```python\n",
    "Techs = ['MIT','Caltech']\n",
    "Ivys = ['Harvard','Yale','Brown']\n",
    "Univs = [Techs,Ivys]\n",
    "Univs1 = [['MIT','Caltech'],['Harvard','Yale','Brown']]\n",
    "```\n",
    "- Use a função pré-definida ```id``` para verificar que os objetos são diferentes apesar de guardarem o mesmo conteúdo.\n",
    "- O que acontece se dermos o comando: ```Techs.append('RPI')?```\n",
    "    - Temos um efeito colateral na lista ```Univs```, visto que ela referencia a mesma lista que ```Techs```"
   ]
  },
  {
   "cell_type": "markdown",
   "metadata": {
    "slideshow": {
     "slide_type": "slide"
    }
   },
   "source": [
    "![Lists Example](images/lists-example.png)"
   ]
  },
  {
   "cell_type": "markdown",
   "metadata": {
    "slideshow": {
     "slide_type": "slide"
    }
   },
   "source": [
    "## Listas: append e extend\n",
    "\n",
    "- Diferença entre ```append``` e ```extend```\n",
    "    - Quando se faz ```append``` se acrescenta um objeto lista em outra lista\n",
    "    - Quando se faz ```extend``` acrescenta-se uma cópia dos elementos de uma lista na outra lista"
   ]
  },
  {
   "cell_type": "markdown",
   "metadata": {
    "slideshow": {
     "slide_type": "slide"
    }
   },
   "source": [
    "## Listas: iteração\n",
    "- Por exemplo, computar a **soma dos elementos** de uma lista\n",
    "- Padrão comum, iterar sobre os elementos de uma lista:\n",
    "\n",
    "```python\n",
    "total = 0\n",
    "for i in range(len(L)):\n",
    "  total += L[i]\n",
    "print total\n",
    "```\n",
    "\n",
    "O código acima é equivalente a:\n",
    "\n",
    "```python\n",
    "total = 0\n",
    "for i in L:\n",
    "  total += i\n",
    "print total\n",
    "```\n",
    "\n",
    "- Note que:\n",
    "    - os elementos são indexados de $0$ até ```len(L)-1```\n",
    "    - ```range(n)``` vai de $0$ a $n-1$"
   ]
  },
  {
   "cell_type": "markdown",
   "metadata": {
    "slideshow": {
     "slide_type": "slide"
    }
   },
   "source": [
    "## Listas: indexação\n",
    "\n",
    "A indexação linear (para os contêineres que a suportam) em Python possui algumas particularidades:\n",
    "* Suporta números negativos\n",
    "* Nesse caso, indexa de trás para frente (-1, -2, ...)\n",
    "* Aceita 3 parâmetros\n",
    "  * Ponto de início (inclusivo)\n",
    "  * Ponto de fim (exclusivo)\n",
    "  * Passo"
   ]
  },
  {
   "cell_type": "markdown",
   "metadata": {
    "slideshow": {
     "slide_type": "fragment"
    }
   },
   "source": [
    "\n",
    "| Dados na lista        | a   | b   | c   | d   | e   |\n",
    "|----------------------:|:---:|:---:|:---:|:---:|:---:|\n",
    "| Indexação crescente   | 0   | 1   | 2   | 3   | 4   |\n",
    "| Indexação decrescente | -5  | -4  | -3  | -2  | -1  |"
   ]
  },
  {
   "cell_type": "markdown",
   "metadata": {
    "slideshow": {
     "slide_type": "slide"
    }
   },
   "source": [
    "## Listas: slicing\n",
    "\n",
    "* Slicing é a técnica de “fatiar” um contêiner que suporta indexação linear \n",
    "* O fatiamento se dá adicionando um par de colchetes ao fim da variável\n",
    "* Possui 3 parâmetros: início (incluso), fim (excluso) e passo\n"
   ]
  },
  {
   "cell_type": "markdown",
   "metadata": {
    "slideshow": {
     "slide_type": "fragment"
    }
   },
   "source": [
    "![slicing_1](images/slicing_1.png)"
   ]
  },
  {
   "cell_type": "markdown",
   "metadata": {
    "slideshow": {
     "slide_type": "slide"
    }
   },
   "source": [
    "## Listas: slicing\n",
    "\n",
    "![slicing_2](images/slicing_2.png)"
   ]
  },
  {
   "cell_type": "markdown",
   "metadata": {
    "slideshow": {
     "slide_type": "slide"
    }
   },
   "source": [
    "## Listas: slicing\n",
    "\n",
    "```python\n",
    "nums = list(range(5))\n",
    "print(nums)\n",
    "print(nums[:])   # do início ao fim\n",
    "print(nums[2:])  # do 2o (incluso) até o fim\n",
    "print(nums[:2])   # do início ao 2o (excluso)\n",
    "print(nums[2:4])  # do 2o (incluso) ao 4o (excluso) \n",
    "print(nums[:-1])  # do início ao último (excluso)\n",
    "nums[2:4] = [8, 9]  # atribuição\n",
    "print(nums)\n",
    "```"
   ]
  },
  {
   "cell_type": "markdown",
   "metadata": {
    "slideshow": {
     "slide_type": "slide"
    }
   },
   "source": [
    "## Listas: construção com list comprehension\n",
    "\n",
    "- *List Comprehension* (compreensão de lista) é um mecanismo conciso de aplicar uma operação nos valores de uma lsita\n",
    "    - Cria uma nova lista \n",
    "    - Cada elemento é o resultado de uma operação em outra sequência (e.g. uma outra lista)\n",
    "\n",
    "```python\n",
    "L = [x**2 for x in range(1,7)]\n",
    "```\n",
    "Resultará na lista ```[1, 4, 9, 16, 25, 36]```\n",
    "\n",
    "- O comando ```for``` na compreensão pode ser segido de um ou mais comandos ```if``` para filtrar o conteúdo da lista\n",
    "\n",
    "```python\n",
    "mixed = [1, 2, 'a', 3, 4.0]\n",
    "mixed = [x**2 for x in mixed if type(x) == int]\n",
    "```\n",
    "\n",
    "Aplicará a potência quadrática apenas no números inteiros, resultando na lista ```[1, 4, 9]```"
   ]
  },
  {
   "cell_type": "markdown",
   "metadata": {
    "slideshow": {
     "slide_type": "slide"
    }
   },
   "source": [
    "## Listas: ```map```\n",
    "\n",
    "- ```map``` é uma função de alta ordem pré-definida\n",
    "    - Aplica uma função em cada elemento de uma lista\n",
    "    - Chamada ```map(f,l)``` onde ```f``` é uma função a ser aplicada na lista ```l```\n",
    "- Por exemplo, o código (utilizando a função lambda ``` x = x+'a' ```):\n",
    "\n",
    "```python\n",
    "lista = ['b', 'n', 'n']\n",
    "lista1 = list(map(lambda x: x + 'a', lista))\n",
    "print(lista1)\n",
    "```\n",
    "\n",
    "Resultará na lista ```['ba', 'na', 'na']```\n"
   ]
  },
  {
   "cell_type": "markdown",
   "metadata": {
    "slideshow": {
     "slide_type": "slide"
    }
   },
   "source": [
    "## Listas: métodos\n",
    "\n",
    "- ```L.append(e)``` adiciona um objeto ```e``` no final de ```L```\n",
    "- ```L.count(e)``` retorna o número de vezes que ```e``` ocorre em ```L```\n",
    "- ```L.insert(i, e)``` insere o objeto ```e``` em ```L``` no índice ```i```\n",
    "- ```L.extend(L1)``` adiciona os itens da lista ```L1``` no final de ```L```\n",
    "- ```L.remove(e)``` deleta a primeira ocorrência de ```e ``` de ```L```.\n",
    "- ```L.index(e)``` retorna o índice da primeira ocorrência de ```e``` em ```L```. Cria uma exceção caso ```e``` não esteja em ```L```.\n",
    "- ```L.pop(i)``` remove e retorna o elemento no índice ```i```\n",
    "    - Se ```i``` for omitido ```i``` será assumido como ```-1``` por default, retornando o último elemento de ```L```\n",
    "- ```L.sort()``` ordena os elementos de ```L``` em ordem ascendente\n",
    "- ```L.reverse()``` inverte a ordem dos elementos em ```L```"
   ]
  },
  {
   "cell_type": "markdown",
   "metadata": {
    "slideshow": {
     "slide_type": "slide"
    }
   },
   "source": [
    "## Tuplas\n",
    "\n",
    "- Tuplas são sequências de elementos de qualquer tipo\n",
    "- Exemplos:\n",
    "    - Tuplas que representam produtos:\n",
    "        - ```Prod1 = (10,”Banana”,1.5)```\n",
    "        - ```Prod2 = (22,”Maca”,4.5)```\n",
    "    - Tuplas que representam pontos cartesianos:\n",
    "        - ```P1 = (101,22)```\n",
    "        - ```P2 = (-3,18)```"
   ]
  },
  {
   "cell_type": "markdown",
   "metadata": {
    "slideshow": {
     "slide_type": "fragment"
    }
   },
   "source": [
    "## Tuplas\n",
    "\n",
    "- São **imutáveis**\n",
    "    - Uma vez criados, não podem ser **estendidos**, **reduzidos** ou **alterados**\n",
    "        - Similares a strings\n",
    "    - Podem ser indexados tal como listas: e.g. ```P1[0]``` $\\rightarrow$ ```101```\n",
    "    - Admitem slicing ```Prod2[1:]``` $\\rightarrow$ ```(\"Maca\", 4.5)```"
   ]
  },
  {
   "cell_type": "markdown",
   "metadata": {
    "slideshow": {
     "slide_type": "slide"
    }
   },
   "source": [
    "## Tuplas\n",
    "\n",
    "- Preste atenção:\n",
    "    - ```X = (“ola”)``` $\\rightarrow$ ```type(X) == String```\n",
    "    - ```X = (“ola”,)``` $\\rightarrow$ ```type(X) == Tuple```\n"
   ]
  },
  {
   "cell_type": "markdown",
   "metadata": {
    "slideshow": {
     "slide_type": "slide"
    }
   },
   "source": [
    "## Tuplas: zip\n",
    "\n",
    "- ```zip``` permite iterar sobre valores agregados de múltiplas coleções iteráveis\n",
    "- Retorna um iterador de tuplas onde cada elemento $i$ iterado corresponde a uma tupla com o i-gésimo elemento de cada coleção\n",
    "\n",
    "Por exemplo\n",
    "```python\n",
    "x = [1, 2, 3]\n",
    "y = [4, 5, 6]\n",
    "zipped = list(zip(x, y))\n",
    "```\n",
    "\n",
    "Resultará na lista de tuplas ```[(1, 4), (2, 5), (3, 6)]```"
   ]
  },
  {
   "cell_type": "markdown",
   "metadata": {
    "slideshow": {
     "slide_type": "slide"
    }
   },
   "source": [
    "## Tuplas: enumerate\n",
    "\n",
    "- ```enumerate``` permite iterar sobre uma coleção mantendo uma variável com a contagem de elementos vistos até agora \n",
    "    - Esta contagem corresponde ao índice de coleções sequenciais (e.g. strings, listas e tuplas)\n",
    "\n",
    "Por exemplo:"
   ]
  },
  {
   "cell_type": "code",
   "execution_count": 40,
   "metadata": {
    "slideshow": {
     "slide_type": "fragment"
    }
   },
   "outputs": [
    {
     "name": "stdout",
     "output_type": "stream",
     "text": [
      "[(0, 'Spring'), (1, 'Summer'), (2, 'Fall'), (3, 'Winter')]\n"
     ]
    }
   ],
   "source": [
    "seasons = ['Spring', 'Summer', 'Fall', 'Winter']\n",
    "tuples = list(enumerate(seasons))\n",
    "\n",
    "print(tuples)"
   ]
  },
  {
   "cell_type": "markdown",
   "metadata": {
    "slideshow": {
     "slide_type": "slide"
    }
   },
   "source": [
    "## Conjuntos\n",
    "\n",
    "- Implementam uma coleção de objetos únicos respeitando propriedades de um conjunto matemático\n",
    "- Implementam operadores de [teoria dos conjuntos](https://en.wikipedia.org/wiki/Set_theory)\n",
    "- Não possuem ordem garantida\n",
    "\n",
    "![Sets](images/sets.png)"
   ]
  },
  {
   "cell_type": "markdown",
   "metadata": {
    "slideshow": {
     "slide_type": "slide"
    }
   },
   "source": [
    "## Conjuntos"
   ]
  },
  {
   "cell_type": "code",
   "execution_count": 25,
   "metadata": {
    "slideshow": {
     "slide_type": "fragment"
    }
   },
   "outputs": [],
   "source": [
    "a = {1, 2, 3}\n",
    "b = set([3, 4, 5])"
   ]
  },
  {
   "cell_type": "code",
   "execution_count": 26,
   "metadata": {
    "slideshow": {
     "slide_type": "fragment"
    }
   },
   "outputs": [
    {
     "data": {
      "text/plain": [
       "3"
      ]
     },
     "execution_count": 26,
     "metadata": {},
     "output_type": "execute_result"
    }
   ],
   "source": [
    "len(a)"
   ]
  },
  {
   "cell_type": "code",
   "execution_count": 27,
   "metadata": {
    "slideshow": {
     "slide_type": "fragment"
    }
   },
   "outputs": [
    {
     "data": {
      "text/plain": [
       "True"
      ]
     },
     "execution_count": 27,
     "metadata": {},
     "output_type": "execute_result"
    }
   ],
   "source": [
    "1 in a"
   ]
  },
  {
   "cell_type": "code",
   "execution_count": 28,
   "metadata": {
    "slideshow": {
     "slide_type": "fragment"
    }
   },
   "outputs": [
    {
     "data": {
      "text/plain": [
       "{1, 2, 4, 5}"
      ]
     },
     "execution_count": 28,
     "metadata": {},
     "output_type": "execute_result"
    }
   ],
   "source": [
    "a ^ b"
   ]
  },
  {
   "cell_type": "code",
   "execution_count": 29,
   "metadata": {
    "slideshow": {
     "slide_type": "fragment"
    }
   },
   "outputs": [
    {
     "data": {
      "text/plain": [
       "{1, 2, 3, 4, 5}"
      ]
     },
     "execution_count": 29,
     "metadata": {},
     "output_type": "execute_result"
    }
   ],
   "source": [
    "a | b"
   ]
  },
  {
   "cell_type": "code",
   "execution_count": 30,
   "metadata": {
    "slideshow": {
     "slide_type": "fragment"
    }
   },
   "outputs": [
    {
     "data": {
      "text/plain": [
       "{1, 2}"
      ]
     },
     "execution_count": 30,
     "metadata": {},
     "output_type": "execute_result"
    }
   ],
   "source": [
    "a - b"
   ]
  },
  {
   "cell_type": "markdown",
   "metadata": {
    "slideshow": {
     "slide_type": "slide"
    }
   },
   "source": [
    "## Conjuntos"
   ]
  },
  {
   "cell_type": "code",
   "execution_count": 31,
   "metadata": {
    "slideshow": {
     "slide_type": "skip"
    }
   },
   "outputs": [],
   "source": [
    "a = {1, 2, 3}\n",
    "b = set([3, 4, 5])"
   ]
  },
  {
   "cell_type": "code",
   "execution_count": 32,
   "metadata": {
    "slideshow": {
     "slide_type": "fragment"
    }
   },
   "outputs": [],
   "source": [
    "c = {1, 2}"
   ]
  },
  {
   "cell_type": "code",
   "execution_count": 33,
   "metadata": {
    "slideshow": {
     "slide_type": "fragment"
    }
   },
   "outputs": [
    {
     "data": {
      "text/plain": [
       "True"
      ]
     },
     "execution_count": 33,
     "metadata": {},
     "output_type": "execute_result"
    }
   ],
   "source": [
    "c.issubset(a)"
   ]
  },
  {
   "cell_type": "code",
   "execution_count": 34,
   "metadata": {
    "scrolled": true,
    "slideshow": {
     "slide_type": "fragment"
    }
   },
   "outputs": [
    {
     "data": {
      "text/plain": [
       "True"
      ]
     },
     "execution_count": 34,
     "metadata": {},
     "output_type": "execute_result"
    }
   ],
   "source": [
    "a.issuperset(c)"
   ]
  },
  {
   "cell_type": "markdown",
   "metadata": {
    "slideshow": {
     "slide_type": "slide"
    }
   },
   "source": [
    "## Conjuntos: operadores\n",
    "\n",
    "- ```len(s)```: número de elementos no conjunto ```s``` (cardinalidade)\n",
    "- ```x in s```: testa se ```x``` é um membro de ```s``` \n",
    "- ```x not in s```\ttesta se ```x``` não é membro de ```s```\n",
    "- ```s.issubset(t)``` (equivalente a ```s <= t```)\ttesta se cada elemento de ```s``` está em ```t```\n",
    "- ```s.issuperset(t)```\t(equivalente a ```s >= t```) testa se cada elemento de ```t``` está em ```s```\n",
    "- ```s.union(t)```\t(equivalente a ```s | t```)\tgera um novo conjunto com todos os elementos de ```s``` e ```t```\n",
    "- ```s.intersection(t)``` (equivalente a ```s & t```) gera um novo conjunto com os elementos comuns entre ```s``` e ```t```\n",
    "- ```s.difference(t)```\t(equivalente a ```s - t```)\tgera um novo conjunto com os elementos de  ```s``` que não estão em ```t```\n",
    "- ```s.symmetric_difference(t)``` (equivalente a ```s ^ t```) gera um novo conjunto com elementos em ```s``` ou ```t``` que não estão em ambos"
   ]
  },
  {
   "cell_type": "markdown",
   "metadata": {
    "slideshow": {
     "slide_type": "slide"
    }
   },
   "source": [
    "## Dicionários\n",
    "\n",
    "- Dicionários são estruturas de dados indexadas **indiretamente** utilizando **chaves** no lugar de índices numéricos\n",
    "- Dicionários implementam **tabelas hash** (hash tables)\n",
    "- Indexação utiliza uma **função hash** que converte valores de tipos arbitrários para um índice númerico (idealmente único)\n",
    "    - Todos os objetos em Python implementam uma função de hash padrão no método ```__hash__(self)```\n",
    "\n",
    "![Dictionary](images/dictionary.png)"
   ]
  },
  {
   "cell_type": "markdown",
   "metadata": {
    "slideshow": {
     "slide_type": "slide"
    }
   },
   "source": [
    "## Dicionários"
   ]
  },
  {
   "cell_type": "code",
   "execution_count": 35,
   "metadata": {
    "slideshow": {
     "slide_type": "fragment"
    }
   },
   "outputs": [],
   "source": [
    "d = {'camila': 21, 'roberto': 53, 'carla': 66}"
   ]
  },
  {
   "cell_type": "code",
   "execution_count": 36,
   "metadata": {
    "slideshow": {
     "slide_type": "fragment"
    }
   },
   "outputs": [
    {
     "data": {
      "text/plain": [
       "21"
      ]
     },
     "execution_count": 36,
     "metadata": {},
     "output_type": "execute_result"
    }
   ],
   "source": [
    "d['camila']"
   ]
  },
  {
   "cell_type": "code",
   "execution_count": 37,
   "metadata": {
    "slideshow": {
     "slide_type": "fragment"
    }
   },
   "outputs": [],
   "source": [
    "# print d[21]  # resultará em um erro"
   ]
  },
  {
   "cell_type": "code",
   "execution_count": 38,
   "metadata": {
    "slideshow": {
     "slide_type": "fragment"
    }
   },
   "outputs": [
    {
     "data": {
      "text/plain": [
       "True"
      ]
     },
     "execution_count": 38,
     "metadata": {},
     "output_type": "execute_result"
    }
   ],
   "source": [
    "'camila' in d"
   ]
  },
  {
   "cell_type": "code",
   "execution_count": 39,
   "metadata": {
    "slideshow": {
     "slide_type": "fragment"
    }
   },
   "outputs": [
    {
     "name": "stdout",
     "output_type": "stream",
     "text": [
      "chave: camila \tvalor: 21\n",
      "chave: roberto \tvalor: 53\n",
      "chave: carla \tvalor: 66\n"
     ]
    }
   ],
   "source": [
    "for key, value in d.items():\n",
    "    print('chave:', key, '\\tvalor:', value)"
   ]
  },
  {
   "cell_type": "markdown",
   "metadata": {
    "slideshow": {
     "slide_type": "slide"
    }
   },
   "source": [
    "## Contêineres: resumo\n",
    "\n",
    "![Dictionary](images/comparacao.png)"
   ]
  },
  {
   "cell_type": "markdown",
   "metadata": {
    "slideshow": {
     "slide_type": "slide"
    }
   },
   "source": [
    "## Itertools\n",
    "\n",
    "Iteradores infinitos:\n",
    "\n",
    "![itertools_01](images/itertools_01.png)"
   ]
  },
  {
   "cell_type": "markdown",
   "metadata": {
    "slideshow": {
     "slide_type": "slide"
    }
   },
   "source": [
    "## Itertools\n",
    "\n",
    "Iteradores que terminam com a sequência de menor tamanho:\n",
    "\n",
    "![itertools_02](images/itertools_02.png)"
   ]
  },
  {
   "cell_type": "markdown",
   "metadata": {
    "slideshow": {
     "slide_type": "slide"
    }
   },
   "source": [
    "## Itertools\n",
    "\n",
    "Iteradores combinatórios:\n",
    "\n",
    "![itertools_03](images/itertools_03.png)"
   ]
  },
  {
   "cell_type": "markdown",
   "metadata": {
    "slideshow": {
     "slide_type": "slide"
    }
   },
   "source": [
    "## Leitura recomendada\n",
    "\n",
    "* Documentação oficial sobre contêineres: https://docs.python.org/3/library/stdtypes.html#list\n",
    "* Documentação sobre a biblioteca nativa itertools: https://docs.python.org/3/library/itertools.html"
   ]
  },
  {
   "cell_type": "markdown",
   "metadata": {
    "slideshow": {
     "slide_type": "slide"
    }
   },
   "source": [
    "# Arquivos\n",
    "\n",
    "Cria arquivo:\n",
    "```python\n",
    "import random\n",
    "arq = open(\"numeros.txt\",\"w\")\n",
    "for i in range(0,100):\n",
    "    val = random.random()\n",
    "    arq.write(str(val)+\"\\n\")\n",
    "print(\"Arquivo criado\")\n",
    "arq.close()\n",
    "```\n",
    "\n",
    "Lê arquivo:\n",
    "```python\n",
    "arq = open(\"numeros.txt\",\"r\")\n",
    "for line in arq:\n",
    "    print(float(line)*10)\n",
    "arq.close()\n",
    "```"
   ]
  },
  {
   "cell_type": "code",
   "execution_count": null,
   "metadata": {
    "slideshow": {
     "slide_type": "skip"
    }
   },
   "outputs": [],
   "source": []
  }
 ],
 "metadata": {
  "celltoolbar": "Slideshow",
  "kernelspec": {
   "display_name": "Python 3",
   "language": "python",
   "name": "python3"
  },
  "language_info": {
   "codemirror_mode": {
    "name": "ipython",
    "version": 3
   },
   "file_extension": ".py",
   "mimetype": "text/x-python",
   "name": "python",
   "nbconvert_exporter": "python",
   "pygments_lexer": "ipython3",
   "version": "3.6.5"
  }
 },
 "nbformat": 4,
 "nbformat_minor": 2
}
